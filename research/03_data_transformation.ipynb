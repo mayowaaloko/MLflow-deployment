{
 "cells": [
  {
   "cell_type": "code",
   "execution_count": 1,
   "id": "216b1d82",
   "metadata": {},
   "outputs": [
    {
     "data": {
      "text/plain": [
       "'c:\\\\Users\\\\DELL\\\\Desktop\\\\MLflow-deployment\\\\research'"
      ]
     },
     "execution_count": 1,
     "metadata": {},
     "output_type": "execute_result"
    }
   ],
   "source": [
    "import os\n",
    "%pwd\n"
   ]
  },
  {
   "cell_type": "code",
   "execution_count": 2,
   "id": "dad0a83b",
   "metadata": {},
   "outputs": [],
   "source": [
    "os.chdir(\"../\")"
   ]
  },
  {
   "cell_type": "code",
   "execution_count": 3,
   "id": "bd2a0d96",
   "metadata": {},
   "outputs": [
    {
     "data": {
      "text/plain": [
       "'c:\\\\Users\\\\DELL\\\\Desktop\\\\MLflow-deployment'"
      ]
     },
     "execution_count": 3,
     "metadata": {},
     "output_type": "execute_result"
    }
   ],
   "source": [
    "%pwd"
   ]
  },
  {
   "cell_type": "code",
   "execution_count": 4,
   "id": "0e0897f4",
   "metadata": {},
   "outputs": [],
   "source": [
    "from dataclasses import dataclass\n",
    "from pathlib import Path\n",
    "\n",
    "@dataclass(frozen=True)\n",
    "class DataTransformationConfig:\n",
    "    root_dir: Path\n",
    "    data_path: Path"
   ]
  },
  {
   "cell_type": "code",
   "execution_count": 5,
   "id": "e4e1d04a",
   "metadata": {},
   "outputs": [],
   "source": [
    "from src.mlproject.constants import *\n",
    "from src.mlproject.utils.common import read_yaml, create_directories"
   ]
  },
  {
   "cell_type": "code",
   "execution_count": 6,
   "id": "b088c6dc",
   "metadata": {},
   "outputs": [],
   "source": [
    "# configuration\n",
    "class ConfigurationManager:\n",
    "    def __init__(\n",
    "        self,\n",
    "        config_file_path: Path = CONFIG_FILE_PATH,\n",
    "        params_file_path: Path = PARAMS_FILE_PATH,\n",
    "        schema_file_path: Path = SCHEMA_FILE_PATH,\n",
    "    ) -> None:\n",
    "        self.config = read_yaml(config_file_path)\n",
    "        self.params = read_yaml(params_file_path)\n",
    "        self.schema = read_yaml(schema_file_path)\n",
    "        create_directories([Path(self.config[\"artifacts_root\"])])\n",
    "        \n",
    "    def get_data_transformation_config(self) -> DataTransformationConfig:\n",
    "        config = self.config[\"data_transformation\"]\n",
    "        create_directories([Path(config[\"root_dir\"])])\n",
    "        data_transformation_config = DataTransformationConfig(\n",
    "            root_dir=Path(config[\"root_dir\"]),\n",
    "            data_path=Path(config[\"data_path\"]),\n",
    "        )\n",
    "        return data_transformation_config\n",
    "\n",
    "    \n",
    "    \n"
   ]
  },
  {
   "cell_type": "code",
   "execution_count": 7,
   "id": "7c288f74",
   "metadata": {},
   "outputs": [],
   "source": [
    "import pandas as pd\n",
    "import numpy as np\n",
    "import os\n",
    "from sklearn.model_selection import train_test_split\n",
    "from src.mlproject import logger"
   ]
  },
  {
   "cell_type": "code",
   "execution_count": 8,
   "id": "00267972",
   "metadata": {},
   "outputs": [],
   "source": [
    "class DataTransformation:\n",
    "    def __init__(self, config: DataTransformationConfig):\n",
    "        self.config = config\n",
    "\n",
    "    def initiate_data_transformation(self):\n",
    "        logger.info(\"Initiating data transformation...\")\n",
    "        self.transform_data()\n",
    "\n",
    "    def transform_data(self):\n",
    "        df = pd.read_csv(self.config.data_path)\n",
    "        logger.info(f\"Original Data Shape: {df.shape}\")\n",
    "\n",
    "        # Example transformation: train-test split\n",
    "        train_df, test_df = train_test_split(df, test_size=0.2, random_state=42)\n",
    "        logger.info(f\"Train Data Shape: {train_df.shape}\")\n",
    "        logger.info(f\"Test Data Shape: {test_df.shape}\")\n",
    "\n",
    "        # Save transformed data\n",
    "        train_df.to_csv(self.config.root_dir / \"train.csv\", index=False)\n",
    "        test_df.to_csv(self.config.root_dir / \"test.csv\", index=False)\n",
    "        logger.info(\"Data transformation completed.\")\n"
   ]
  },
  {
   "cell_type": "code",
   "execution_count": 9,
   "id": "93b8b521",
   "metadata": {},
   "outputs": [
    {
     "name": "stdout",
     "output_type": "stream",
     "text": [
      "2025-10-04 22:13:10,640 - INFO - yaml file: config\\config.yaml loaded successfully\n",
      "2025-10-04 22:13:10,644 - INFO - yaml file: params.yaml loaded successfully\n",
      "2025-10-04 22:13:10,648 - INFO - yaml file: schema.yaml loaded successfully\n",
      "2025-10-04 22:13:10,651 - INFO - Directory created at: artifacts\n",
      "2025-10-04 22:13:10,655 - INFO - Directory created at: artifacts\\data_transformation\n",
      "2025-10-04 22:13:10,703 - INFO - Original Data Shape: (1599, 12)\n",
      "2025-10-04 22:13:10,721 - INFO - Train Data Shape: (1279, 12)\n",
      "2025-10-04 22:13:10,724 - INFO - Test Data Shape: (320, 12)\n",
      "2025-10-04 22:13:10,760 - INFO - Data transformation completed.\n"
     ]
    }
   ],
   "source": [
    "try:\n",
    "    config = ConfigurationManager()\n",
    "    data_transformation_config = config.get_data_transformation_config()\n",
    "    data_transformation = DataTransformation(config=data_transformation_config)\n",
    "    data_transformation.transform_data()\n",
    "except Exception as e:\n",
    "    raise e"
   ]
  },
  {
   "cell_type": "code",
   "execution_count": null,
   "id": "6951bd89",
   "metadata": {},
   "outputs": [],
   "source": []
  }
 ],
 "metadata": {
  "kernelspec": {
   "display_name": "Python 3",
   "language": "python",
   "name": "python3"
  },
  "language_info": {
   "codemirror_mode": {
    "name": "ipython",
    "version": 3
   },
   "file_extension": ".py",
   "mimetype": "text/x-python",
   "name": "python",
   "nbconvert_exporter": "python",
   "pygments_lexer": "ipython3",
   "version": "3.11.13"
  }
 },
 "nbformat": 4,
 "nbformat_minor": 5
}
